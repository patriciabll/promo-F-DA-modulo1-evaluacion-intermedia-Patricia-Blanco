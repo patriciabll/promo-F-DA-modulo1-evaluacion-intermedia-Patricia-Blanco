{
 "cells": [
  {
   "cell_type": "markdown",
   "metadata": {},
   "source": [
    "# STRIGS"
   ]
  },
  {
   "cell_type": "code",
   "execution_count": 58,
   "metadata": {},
   "outputs": [
    {
     "name": "stdout",
     "output_type": "stream",
     "text": [
      "La letra a aparece 4 veces\n"
     ]
    }
   ],
   "source": [
    "#1 \n",
    "cadena1 = 'Python es un lenguaje de programación muy popular'\n",
    "cadena1 = cadena1.lower()\n",
    "cadena1 = cadena1.replace('ó','o') #eliminamos las tildes\n",
    "letra = input('Elige una letra').lower() \n",
    "print(f'La letra {letra} aparece {cadena1.count(letra)} veces')"
   ]
  },
  {
   "cell_type": "code",
   "execution_count": 31,
   "metadata": {},
   "outputs": [
    {
     "name": "stdout",
     "output_type": "stream",
     "text": [
      "python es maravilloso. python es facil de aprender\n"
     ]
    }
   ],
   "source": [
    "#2\n",
    "cadena2 = 'Python es genial. Python es fácil de aprender'.lower()\n",
    "cadena2 = cadena2.replace('á','a') #eliminamos las tildes\n",
    "palabra_eliminamos = input('¿Qué palabra de la frase quieres eliminar?').lower()\n",
    "palabra_añadimos = input('¿Qué palabra quieres añadir?').lower()\n",
    "cadena2 = cadena2.replace(palabra_eliminamos,palabra_añadimos)\n",
    "print(cadena2)\n"
   ]
  },
  {
   "cell_type": "code",
   "execution_count": 29,
   "metadata": {},
   "outputs": [
    {
     "name": "stdout",
     "output_type": "stream",
     "text": [
      "['Esto', 'es', 'una', 'oración', 'de', 'ejemplo']\n",
      "Esto es una oración de ejemplo\n"
     ]
    }
   ],
   "source": [
    "#3\n",
    "oracion1 = 'Esto es una oración de ejemplo'\n",
    "oracion1 = oracion1.split()\n",
    "print(oracion1)\n",
    "oracion1 = ' '.join(oracion1)\n",
    "print(oracion1)\n"
   ]
  },
  {
   "cell_type": "code",
   "execution_count": 36,
   "metadata": {},
   "outputs": [
    {
     "name": "stdout",
     "output_type": "stream",
     "text": [
      "En nuestra frase hay 7 palabras\n"
     ]
    }
   ],
   "source": [
    "#4\n",
    "cadena4 = 'Esto es una cadena con cinco palabras'\n",
    "cadena4 = cadena4.split()\n",
    "palabras4 = len(cadena4)\n",
    "print(f'En nuestra frase hay {palabras4} palabras')"
   ]
  },
  {
   "cell_type": "code",
   "execution_count": 49,
   "metadata": {},
   "outputs": [
    {
     "name": "stdout",
     "output_type": "stream",
     "text": [
      "caracola una soy hola\n"
     ]
    }
   ],
   "source": [
    "#5\n",
    "cadena5 = input('Escribe una frase')\n",
    "cadena5 = cadena5.split()\n",
    "cadena5.reverse()\n",
    "cadena5 = ' '.join(cadena5)\n",
    "print(cadena5)"
   ]
  },
  {
   "cell_type": "code",
   "execution_count": 54,
   "metadata": {},
   "outputs": [
    {
     "name": "stdout",
     "output_type": "stream",
     "text": [
      "La palabra frase está en la posición 3\n"
     ]
    }
   ],
   "source": [
    "#6\n",
    "cadena6 = 'Esta es la frase para el ejercico de strings'\n",
    "cadena6 = cadena6.split()\n",
    "palabra = input('Elige una palabra y te indicaremos su posición:').lower()\n",
    "posicion = cadena6.index(palabra)\n",
    "print(f'La palabra {palabra} está en la posición {posicion}')"
   ]
  },
  {
   "cell_type": "markdown",
   "metadata": {},
   "source": [
    "# LISTAS"
   ]
  },
  {
   "cell_type": "code",
   "execution_count": 59,
   "metadata": {},
   "outputs": [
    {
     "name": "stdout",
     "output_type": "stream",
     "text": [
      "('rojo', 'verde', 'azul', 'amarillo', 'morado')\n"
     ]
    }
   ],
   "source": [
    "#1\n",
    "colores = ('rojo','verde','azul','amarillo','morado')\n",
    "print(colores)"
   ]
  },
  {
   "cell_type": "code",
   "execution_count": 60,
   "metadata": {},
   "outputs": [
    {
     "name": "stdout",
     "output_type": "stream",
     "text": [
      "El índice del color verde es 1\n"
     ]
    }
   ],
   "source": [
    "#2\n",
    "indice = colores.index('verde')\n",
    "print(f'El índice del color verde es {indice}')"
   ]
  },
  {
   "cell_type": "code",
   "execution_count": 61,
   "metadata": {},
   "outputs": [
    {
     "name": "stdout",
     "output_type": "stream",
     "text": [
      "El color azul aparece 1 veces\n"
     ]
    }
   ],
   "source": [
    "#3\n",
    "colores.count('azul')\n",
    "print(f'El color azul aparece {indice} veces')"
   ]
  },
  {
   "cell_type": "code",
   "execution_count": 63,
   "metadata": {},
   "outputs": [],
   "source": [
    "#4\n",
    "#No se pueden añadir elementos a una tupla."
   ]
  },
  {
   "cell_type": "markdown",
   "metadata": {},
   "source": [
    "# DICCIONARIOS"
   ]
  },
  {
   "cell_type": "code",
   "execution_count": 67,
   "metadata": {},
   "outputs": [
    {
     "name": "stdout",
     "output_type": "stream",
     "text": [
      "{'manzana': 2, 'banana': 3, 'uva': 5, 'pera': 4}\n"
     ]
    }
   ],
   "source": [
    "#1\n",
    "frutas = {'manzana':2, 'banana':3, 'uva':5, 'pera':4}\n",
    "print(frutas)"
   ]
  },
  {
   "cell_type": "code",
   "execution_count": 70,
   "metadata": {},
   "outputs": [
    {
     "name": "stdout",
     "output_type": "stream",
     "text": [
      "dict_keys(['manzana', 'banana', 'uva', 'pera'])\n"
     ]
    }
   ],
   "source": [
    "#2\n",
    "nombres = frutas.keys()\n",
    "print(nombres)"
   ]
  },
  {
   "cell_type": "code",
   "execution_count": 71,
   "metadata": {},
   "outputs": [
    {
     "name": "stdout",
     "output_type": "stream",
     "text": [
      "dict_values([2, 3, 5, 4])\n"
     ]
    }
   ],
   "source": [
    "#3\n",
    "cantidades = frutas.values()\n",
    "print(cantidades)"
   ]
  },
  {
   "cell_type": "code",
   "execution_count": 72,
   "metadata": {},
   "outputs": [
    {
     "data": {
      "text/plain": [
       "2"
      ]
     },
     "execution_count": 72,
     "metadata": {},
     "output_type": "execute_result"
    }
   ],
   "source": [
    "#4\n",
    "frutas.setdefault('manzana','No existe esa clave')"
   ]
  },
  {
   "cell_type": "code",
   "execution_count": 73,
   "metadata": {},
   "outputs": [
    {
     "name": "stdout",
     "output_type": "stream",
     "text": [
      "{'manzana': 2, 'banana': 3, 'uva': 5, 'pera': 4, 'kiwi': 6}\n"
     ]
    }
   ],
   "source": [
    "#5\n",
    "frutas ['kiwi'] = 6\n",
    "print(frutas)"
   ]
  },
  {
   "cell_type": "code",
   "execution_count": 74,
   "metadata": {},
   "outputs": [
    {
     "name": "stdout",
     "output_type": "stream",
     "text": [
      "{'manzana': 2, 'banana': 3, 'uva': 8, 'pera': 4, 'kiwi': 6}\n"
     ]
    }
   ],
   "source": [
    "#6\n",
    "frutas ['uva'] = 8\n",
    "print(frutas)"
   ]
  },
  {
   "cell_type": "code",
   "execution_count": 75,
   "metadata": {},
   "outputs": [],
   "source": [
    "#7\n",
    "frutas_nuevas = {'sandía':7, 'mango': 4}"
   ]
  },
  {
   "cell_type": "code",
   "execution_count": 79,
   "metadata": {},
   "outputs": [
    {
     "name": "stdout",
     "output_type": "stream",
     "text": [
      "{'manzana': 2, 'banana': 3, 'uva': 8, 'pera': 4, 'kiwi': 6, 'sandía': 7, 'mango': 4}\n"
     ]
    }
   ],
   "source": [
    "#8\n",
    "frutas_total = frutas.copy()\n",
    "frutas_total.update(frutas_nuevas)\n",
    "print(frutas_total)"
   ]
  },
  {
   "cell_type": "code",
   "execution_count": 80,
   "metadata": {},
   "outputs": [
    {
     "name": "stdout",
     "output_type": "stream",
     "text": [
      "{'manzana': 2, 'banana': 3, 'uva': 8, 'pera': 4, 'kiwi': 6, 'sandía': 7}\n"
     ]
    }
   ],
   "source": [
    "#9\n",
    "frutas_total.popitem()\n",
    "print(frutas_total)"
   ]
  },
  {
   "cell_type": "code",
   "execution_count": 81,
   "metadata": {},
   "outputs": [
    {
     "name": "stdout",
     "output_type": "stream",
     "text": [
      "{'manzana': 2, 'banana': 3, 'pera': 4, 'kiwi': 6, 'sandía': 7}\n"
     ]
    }
   ],
   "source": [
    "#10\n",
    "frutas_total.pop('uva')\n",
    "print(frutas_total)"
   ]
  },
  {
   "cell_type": "code",
   "execution_count": 82,
   "metadata": {},
   "outputs": [
    {
     "name": "stdout",
     "output_type": "stream",
     "text": [
      "{'manzana': 2, 'banana': 3, 'pera': 4, 'kiwi': 6, 'sandía': 7}\n"
     ]
    }
   ],
   "source": [
    "#11\n",
    "frutas_total.setdefault('manzana',10)\n",
    "print(frutas_total)"
   ]
  },
  {
   "cell_type": "code",
   "execution_count": 85,
   "metadata": {},
   "outputs": [
    {
     "name": "stdout",
     "output_type": "stream",
     "text": [
      "La suma total de la fruta es de 22 piezas\n",
      "La cantidad más grande es de 7 y la más pequeña es de 2\n"
     ]
    }
   ],
   "source": [
    "#12\n",
    "cantidades2 = frutas_total.values()\n",
    "total = sum(cantidades2)\n",
    "print(f'La suma total de la fruta es de {total} piezas')\n",
    "print(f'La cantidad más grande es de {max(cantidades2)} y la más pequeña es de {min(cantidades2)}')"
   ]
  },
  {
   "cell_type": "markdown",
   "metadata": {},
   "source": [
    "# SETS"
   ]
  },
  {
   "cell_type": "code",
   "execution_count": 86,
   "metadata": {},
   "outputs": [],
   "source": [
    "#1\n",
    "conjunto1 = {1,2,3,4,5}"
   ]
  },
  {
   "cell_type": "code",
   "execution_count": 87,
   "metadata": {},
   "outputs": [],
   "source": [
    "#2\n",
    "conjunto2 = {4,5,6,7,8}"
   ]
  },
  {
   "cell_type": "code",
   "execution_count": 91,
   "metadata": {},
   "outputs": [
    {
     "name": "stdout",
     "output_type": "stream",
     "text": [
      "{1, 2, 3, 4, 5, 6, 7, 8}\n"
     ]
    }
   ],
   "source": [
    "#3\n",
    "juntos = conjunto1.union(conjunto2)\n",
    "print(juntos)"
   ]
  },
  {
   "cell_type": "code",
   "execution_count": 95,
   "metadata": {},
   "outputs": [
    {
     "data": {
      "text/plain": [
       "{4, 5}"
      ]
     },
     "execution_count": 95,
     "metadata": {},
     "output_type": "execute_result"
    }
   ],
   "source": [
    "#4\n",
    "conjunto1.intersection(conjunto2)\n"
   ]
  },
  {
   "cell_type": "code",
   "execution_count": 96,
   "metadata": {},
   "outputs": [
    {
     "data": {
      "text/plain": [
       "{1, 2, 3}"
      ]
     },
     "execution_count": 96,
     "metadata": {},
     "output_type": "execute_result"
    }
   ],
   "source": [
    "#5\n",
    "conjunto1.difference(conjunto2)\n"
   ]
  },
  {
   "cell_type": "markdown",
   "metadata": {},
   "source": [
    "# SENTENCIAS DE CONTROL"
   ]
  },
  {
   "cell_type": "code",
   "execution_count": 112,
   "metadata": {},
   "outputs": [
    {
     "name": "stdout",
     "output_type": "stream",
     "text": [
      "Eres un adulto mayor\n"
     ]
    }
   ],
   "source": [
    "#1\n",
    "edad = int(input('Introduce tu edad: '))\n",
    "if edad < 18:\n",
    "    print('Eres menor de edad')\n",
    "elif edad <= 65:\n",
    "    print('Eres adulto')\n",
    "else:\n",
    "    print('Eres un adulto mayor')"
   ]
  },
  {
   "cell_type": "code",
   "execution_count": 130,
   "metadata": {},
   "outputs": [
    {
     "name": "stdout",
     "output_type": "stream",
     "text": [
      "Tu día de la semana es el domingo\n"
     ]
    }
   ],
   "source": [
    "#2\n",
    "elige = int(input('Elige un número del 1 al 7'))\n",
    "semana = ['días','lunes','martes','miércoles','jueves','viernes','sábado','domingo']\n",
    "\n",
    "if elige == 1 or elige == 2 or elige == 3 or elige == 4 or elige == 5 or elige == 6 or elige == 7:\n",
    "    print(f'Tu día de la semana es el {semana [elige]}')\n",
    "else:\n",
    "    print('Número no válido')\n"
   ]
  },
  {
   "cell_type": "code",
   "execution_count": 2,
   "metadata": {},
   "outputs": [],
   "source": [
    "import random"
   ]
  },
  {
   "cell_type": "code",
   "execution_count": 4,
   "metadata": {},
   "outputs": [
    {
     "name": "stdout",
     "output_type": "stream",
     "text": [
      "25\n",
      "25\n",
      "25\n",
      "25\n",
      "¡Has acertado! el número secreto es el 25 y lo has conseguido en 4 veces\n"
     ]
    }
   ],
   "source": [
    "#3\n",
    "aleatorio = random.randint(1,100)\n",
    "numero = int(input('Introduce un número del 1 al 100 ¿Habrás acertado?'))\n",
    "veces = 0\n",
    "\n",
    "while numero != aleatorio:\n",
    "    if numero > aleatorio:\n",
    "        numero = int(input('¡Prueba con un número más bajo!'))\n",
    "        veces +=1\n",
    "    elif numero < aleatorio:\n",
    "        numero = int(input('¡Inténtalo con uno más alto!'))\n",
    "        veces +=1\n",
    "else:\n",
    "    print(f'¡Has acertado! el número secreto es el {aleatorio} y lo has conseguido en {veces} veces')"
   ]
  },
  {
   "cell_type": "code",
   "execution_count": 1,
   "metadata": {},
   "outputs": [
    {
     "name": "stdout",
     "output_type": "stream",
     "text": [
      "*******\n",
      "*******\n",
      "*******\n",
      "*******\n",
      "*******\n",
      "No lo has conseguido... ¡Juega otra vez!\n"
     ]
    }
   ],
   "source": [
    "#4\n",
    "secreta = 'ventana'\n",
    "palabra = '*******'\n",
    "vidas = 1\n",
    "letra = input('Introduce una letra').lower()\n",
    "\n",
    "while vidas != 5:\n",
    "    if letra not in secreta:\n",
    "        letra = input('Esa letra no está ¡Prueba con otra!').lower()\n",
    "        vidas +=1\n",
    "    elif letra in secreta:\n",
    "        letra = input('¡Has acertado una letra!Introduce otra').lower()\n",
    "        print(palabra)\n",
    "else:\n",
    "    print('No lo has conseguido... ¡Juega otra vez!')\n",
    "\n"
   ]
  },
  {
   "cell_type": "code",
   "execution_count": null,
   "metadata": {},
   "outputs": [],
   "source": [
    "#4 - No completado\n",
    "secreta = 'ventana'\n",
    "palabra = '*******'\n",
    "vidas = 1\n",
    "letra = input('Introduce una letra').lower()\n",
    "\n",
    "while vidas != 5:\n",
    "    if letra not in secreta:\n",
    "        letra = input('Esa letra no está ¡Prueba con otra!').lower()\n",
    "        vidas +=1\n",
    "    elif letra in secreta:\n",
    "        letra = input('¡Has acertado una letra!Introduce otra').lower()\n",
    "        if letra in secreta:\n",
    "            indice = secreta.index('letra')\n",
    "            palabra[].replace(*, letra)\n",
    "        print(palabra)\n",
    "else:\n",
    "    print('No lo has conseguido... ¡Juega otra vez!')"
   ]
  }
 ],
 "metadata": {
  "kernelspec": {
   "display_name": "base",
   "language": "python",
   "name": "python3"
  },
  "language_info": {
   "codemirror_mode": {
    "name": "ipython",
    "version": 3
   },
   "file_extension": ".py",
   "mimetype": "text/x-python",
   "name": "python",
   "nbconvert_exporter": "python",
   "pygments_lexer": "ipython3",
   "version": "3.9.7"
  }
 },
 "nbformat": 4,
 "nbformat_minor": 2
}
